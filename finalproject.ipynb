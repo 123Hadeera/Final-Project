{
 "cells": [
  {
   "cell_type": "code",
   "execution_count": 79,
   "id": "3696fa9a-c1ff-4b7f-ac06-46f5924ff853",
   "metadata": {},
   "outputs": [
    {
     "name": "stdout",
     "output_type": "stream",
     "text": [
      "SMOTE could not be applied: Expected n_neighbors <= n_samples_fit, but n_neighbors = 2, n_samples_fit = 1, n_samples = 1\n",
      "Balanced datasets saved successfully.\n"
     ]
    }
   ],
   "source": [
    "import pandas as pd\n",
    "from sklearn.model_selection import train_test_split\n",
    "from sklearn.preprocessing import LabelEncoder\n",
    "from imblearn.over_sampling import SMOTE\n",
    "\n",
    "# Load datasets\n",
    "loan_data = pd.read_csv('loan_approval_dataset.csv')\n",
    "creditcard_data = pd.read_csv('credit_card.csv')\n",
    "kidney_data = pd.read_csv('kidney_disease.csv')\n",
    "\n",
    "# Clean column names\n",
    "loan_data.columns = loan_data.columns.str.strip()\n",
    "creditcard_data.columns = creditcard_data.columns.str.strip()\n",
    "kidney_data.columns = kidney_data.columns.str.strip()\n",
    "\n",
    "# Define a function to handle preprocessing and splitting the data\n",
    "def preprocess_and_split(data, target_column, max_categories=10):\n",
    "    # Handling missing values\n",
    "    data = data.dropna()\n",
    "    \n",
    "    # Remove classes with fewer than 2 instances\n",
    "    class_counts = data[target_column].value_counts()\n",
    "    data = data[data[target_column].isin(class_counts[class_counts > 1].index)]\n",
    "    \n",
    "    # Split data into features and target\n",
    "    X = data.drop(target_column, axis=1)\n",
    "    y = data[target_column]\n",
    "    \n",
    "    # Selective encoding of categorical features\n",
    "    categorical_columns = X.select_dtypes(include=['object']).columns\n",
    "    for col in categorical_columns:\n",
    "        if X[col].nunique() <= max_categories:\n",
    "            X = pd.get_dummies(X, columns=[col], drop_first=True)\n",
    "        else:\n",
    "            le = LabelEncoder()\n",
    "            X[col] = le.fit_transform(X[col])\n",
    "    \n",
    "    # Train-test split\n",
    "    X_train, X_test, y_train, y_test = train_test_split(X, y, test_size=0.3, random_state=42, stratify=y)\n",
    "    \n",
    "    return X_train, X_test, y_train, y_test\n",
    "\n",
    "# Preprocess and split the datasets\n",
    "X_train_loan, X_test_loan, y_train_loan, y_test_loan = preprocess_and_split(loan_data, 'loan_status')\n",
    "X_train_credit, X_test_credit, y_train_credit, y_test_credit = preprocess_and_split(creditcard_data, 'X1')\n",
    "X_train_kidney, X_test_kidney, y_train_kidney, y_test_kidney = preprocess_and_split(kidney_data, 'classification')\n",
    "\n",
    "# Applying SMOTE for oversampling with k_neighbors=1\n",
    "def apply_smote(X_train, y_train):\n",
    "    # Only apply SMOTE to classes that can support it\n",
    "    smote = SMOTE(random_state=42, k_neighbors=1)\n",
    "    try:\n",
    "        X_smote, y_smote = smote.fit_resample(X_train, y_train)\n",
    "        return X_smote, y_smote\n",
    "    except ValueError as e:\n",
    "        print(f\"SMOTE could not be applied: {e}\")\n",
    "        return X_train, y_train\n",
    "\n",
    "X_smote_loan, y_smote_loan = apply_smote(X_train_loan, y_train_loan)\n",
    "X_smote_credit, y_smote_credit = apply_smote(X_train_credit, y_train_credit)\n",
    "X_smote_kidney, y_smote_kidney = apply_smote(X_train_kidney, y_train_kidney)\n",
    "\n",
    "# Create balanced DataFrames\n",
    "loan_data_balanced = pd.DataFrame(X_smote_loan, columns=X_train_loan.columns)\n",
    "loan_data_balanced['loan_status'] = y_smote_loan.values\n",
    "\n",
    "creditcard_data_balanced = pd.DataFrame(X_smote_credit, columns=X_train_credit.columns)\n",
    "creditcard_data_balanced['X1'] = y_smote_credit.values\n",
    "\n",
    "kidney_data_balanced = pd.DataFrame(X_smote_kidney, columns=X_train_kidney.columns)\n",
    "kidney_data_balanced['classification'] = y_smote_kidney.values\n",
    "\n",
    "# Save balanced datasets to CSV\n",
    "try:\n",
    "    loan_data_balanced.to_csv('loan_approval_balanced.csv', index=False)\n",
    "    creditcard_data_balanced.to_csv('creditcard_balanced.csv', index=False)\n",
    "    kidney_data_balanced.to_csv('kidney_disease_balanced.csv', index=False)\n",
    "    print(\"Balanced datasets saved successfully.\")\n",
    "except OSError as e:\n",
    "    print(f\"Error saving datasets: {e}\")\n"
   ]
  },
  {
   "cell_type": "code",
   "execution_count": null,
   "id": "e70141eb-2497-4c71-96d9-3405d7aa8a5b",
   "metadata": {},
   "outputs": [],
   "source": []
  },
  {
   "cell_type": "code",
   "execution_count": null,
   "id": "75513494-2d88-4c23-a3ff-5a8563baa073",
   "metadata": {},
   "outputs": [],
   "source": []
  }
 ],
 "metadata": {
  "kernelspec": {
   "display_name": "Python 3 (ipykernel)",
   "language": "python",
   "name": "python3"
  },
  "language_info": {
   "codemirror_mode": {
    "name": "ipython",
    "version": 3
   },
   "file_extension": ".py",
   "mimetype": "text/x-python",
   "name": "python",
   "nbconvert_exporter": "python",
   "pygments_lexer": "ipython3",
   "version": "3.12.4"
  }
 },
 "nbformat": 4,
 "nbformat_minor": 5
}
